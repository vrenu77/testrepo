{
 "cells": [
  {
   "cell_type": "markdown",
   "id": "3b9b1642-29dc-449a-93e7-e3f7035d7a71",
   "metadata": {},
   "source": [
    "# Data Science Tools and Ecosystem"
   ]
  },
  {
   "cell_type": "markdown",
   "id": "8d536182-c5e4-4907-beb0-5ffe89d49a60",
   "metadata": {},
   "source": [
    "In this notebook, Data Science Tools and Ecosystem are summarized"
   ]
  },
  {
   "cell_type": "markdown",
   "id": "8a7e031e-1310-4011-8eba-ca3cec5d4708",
   "metadata": {},
   "source": [
    "Some of the popular languages data scienctist use are:\n",
    "1. Python\n",
    "2. R\n",
    "3. SQL"
   ]
  },
  {
   "cell_type": "markdown",
   "id": "c7109b1b-c022-4130-8fbc-727ca253eba3",
   "metadata": {},
   "source": [
    "Some of the commonly used libraries by data scientists include:\n",
    "1. Numpy\n",
    "2. Scipy\n",
    "3. Pandas\n",
    "4. Tensorflow"
   ]
  },
  {
   "cell_type": "markdown",
   "id": "30ccff42-f738-40bd-b573-26a2eff2bdf2",
   "metadata": {},
   "source": [
    "|Data Science Tools|\n",
    "|------------------|\n",
    "|Jupyter Notebook|\n",
    "|Apache Spark|\n",
    "|R Studio|"
   ]
  },
  {
   "cell_type": "markdown",
   "id": "2822504e-722d-4543-b1d8-38379e71e387",
   "metadata": {},
   "source": [
    "### Below are a few examples of arithmetic expressions in Python"
   ]
  },
  {
   "cell_type": "code",
   "execution_count": 2,
   "id": "1ee80616-61aa-4e46-9a28-9b4d4fd53a1e",
   "metadata": {},
   "outputs": [
    {
     "data": {
      "text/plain": [
       "17"
      ]
     },
     "execution_count": 2,
     "metadata": {},
     "output_type": "execute_result"
    }
   ],
   "source": [
    "# This is a simple arithmetic expression to multiply then add integers\n",
    "(3*4)+5"
   ]
  },
  {
   "cell_type": "code",
   "execution_count": 3,
   "id": "c1398edd-1002-41fa-89c9-81004eb22a46",
   "metadata": {},
   "outputs": [
    {
     "data": {
      "text/plain": [
       "3.3333333333333335"
      ]
     },
     "execution_count": 3,
     "metadata": {},
     "output_type": "execute_result"
    }
   ],
   "source": [
    "# This will convert 200 minutes to hours by dividing by 60\n",
    "200/60"
   ]
  },
  {
   "cell_type": "markdown",
   "id": "fa76ab81-b1c7-4310-abf6-2df712edc678",
   "metadata": {},
   "source": [
    "***Objectives:***\n",
    "- List of popular languages in Data Science\n",
    "- List of libraries used in Data Science\n",
    "- Examples of Arithmetic Expressions"
   ]
  },
  {
   "cell_type": "markdown",
   "id": "276ef60f-60b9-4422-8c66-5ca83ddf1700",
   "metadata": {},
   "source": [
    "## Author\n",
    "Renuka V"
   ]
  },
  {
   "cell_type": "code",
   "execution_count": null,
   "id": "4ecff145-9f37-4ec7-a91e-d78637e3d32a",
   "metadata": {},
   "outputs": [],
   "source": []
  }
 ],
 "metadata": {
  "kernelspec": {
   "display_name": "Python 3 (ipykernel)",
   "language": "python",
   "name": "python3"
  },
  "language_info": {
   "codemirror_mode": {
    "name": "ipython",
    "version": 3
   },
   "file_extension": ".py",
   "mimetype": "text/x-python",
   "name": "python",
   "nbconvert_exporter": "python",
   "pygments_lexer": "ipython3",
   "version": "3.9.21"
  }
 },
 "nbformat": 4,
 "nbformat_minor": 5
}
